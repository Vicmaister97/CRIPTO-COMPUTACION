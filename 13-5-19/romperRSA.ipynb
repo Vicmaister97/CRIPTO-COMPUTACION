{
 "cells": [
  {
   "cell_type": "markdown",
   "metadata": {},
   "source": [
    "# Notas Criptografía"
   ]
  },
  {
   "cell_type": "code",
   "execution_count": null,
   "metadata": {},
   "outputs": [],
   "source": []
  },
  {
   "cell_type": "markdown",
   "metadata": {},
   "source": [
    "## 8 abril"
   ]
  },
  {
   "cell_type": "markdown",
   "metadata": {},
   "source": [
    "1. Logaritmo discreto: \n",
    " a, b, p primo, encontrar x tq $a^x = b \\mod p$. Fuerza bruta $log_b \\mod p$\n",
    "2. Factorización\n",
    "3. Raices modulares"
   ]
  },
  {
   "cell_type": "code",
   "execution_count": 15,
   "metadata": {},
   "outputs": [],
   "source": [
    "import practica1 as p1\n",
    "import math"
   ]
  },
  {
   "cell_type": "markdown",
   "metadata": {},
   "source": [
    "### Paso enano paso gigante\n",
    "1. Cojemos un primo p fuerte de 3 cifras 263\n",
    "2. Cojemos un generador, $a^{p-1} \\neq 1$ a = 112\n",
    "3. Calcular $112^{115}\\mod 263 = 182$ b= 182\n",
    "4. ¿como encontrar 115? multiplicar a*a hasta 115\n",
    "\n",
    "1. Calculamos la raiz cuadrada de 263 = 16,....\n",
    "2. Tomamos s = 17 (justo por encima de la raiz)\n",
    "3. Tabla: [$182, 182 \\times 112, 182 \\times 112^2, .. 122^{17}]$\n",
    "4. Empezamos en la tabla $112^{17}, 112^{17\\times 2}....112^{17 \\times 17}$\n",
    "5. [141, 156, 167, 140, 15, 11, 236]\n",
    "6. ¿Cual esta en la lista anterior? 236 si esta\n",
    "7. Una vez que encontramos la coincidencia con el anterior: $117^{17 \\times 7}=182 \\times 112^4$ Despejando 112: $182 = 112^{115}$"
   ]
  },
  {
   "cell_type": "code",
   "execution_count": 18,
   "metadata": {},
   "outputs": [
    {
     "name": "stdout",
     "output_type": "stream",
     "text": [
      "[133, 168, 143, 236, 132, 56, 223, 254, 44, 194, 162, 260, 190, 240, 54]\n"
     ]
    }
   ],
   "source": [
    "def primera_tabla(p,a,gen):\n",
    "    tabla = []\n",
    "    s = int(math.sqrt(p)+0.5)\n",
    "    exp = gen\n",
    "    for i in range (1,s):\n",
    "        a = (a*exp)%p\n",
    "        tabla.append(a)\n",
    "    return tabla\n",
    "\n",
    "def segunda_tabla(primera, p, a, gen, it):    \n",
    "    s = int(math.sqrt(p)+0.5)\n",
    "    a = p1.potencia_modular(gen,s,p)\n",
    "    exp = s\n",
    "    tabla [gen]\n",
    "    for i in range (1,s+1):\n",
    "        a = p1.potencia_modular(gen,exp,p)\n",
    "        exp = g\n",
    "        \n",
    "        \n",
    "print (primera_tabla(263,182,112))\n",
    "    "
   ]
  },
  {
   "cell_type": "markdown",
   "metadata": {},
   "source": [
    "Cojemos un numero x, y= x^2,x + algo y ahora al numero sqrt(y) por encima y deberia de salir el numero x+1. "
   ]
  },
  {
   "cell_type": "code",
   "execution_count": 19,
   "metadata": {},
   "outputs": [],
   "source": [
    "x = 1002020202020202002020020202020032032030203203020302\n",
    "y= (x*x)"
   ]
  },
  {
   "cell_type": "markdown",
   "metadata": {},
   "source": [
    "La función sqrt redondea y no nos sirve \n",
    "### Metodo de newton ranson\n",
    "Como un sgd pero no busca el minimo si no que el punto de la recta X^2 es 0(valor de la raiz)"
   ]
  },
  {
   "cell_type": "code",
   "execution_count": 38,
   "metadata": {},
   "outputs": [
    {
     "name": "stdout",
     "output_type": "stream",
     "text": [
      "4.8987987654465135e+19\n",
      "(5, 48987987654465132540)\n"
     ]
    }
   ],
   "source": [
    "def raiz(n):\n",
    "    # Contar cuantas veces calcula la tangente\n",
    "    i=0\n",
    "    m = len(bin(n))//2\n",
    "    x = 2**m\n",
    "    y = ((x**2)+n)//(2*x)\n",
    "    \n",
    "    while x > y:\n",
    "        x=y\n",
    "        y=(x**2 + n) // (2*x)\n",
    "        i+=1\n",
    "        \n",
    "    return (i,x)\n",
    "x = 48987987654465132540\n",
    "y = x*x +1\n",
    "print (math.sqrt(y))\n",
    "print (raiz (y))"
   ]
  },
  {
   "cell_type": "markdown",
   "metadata": {},
   "source": [
    "### P de Pollard\n",
    "1. Quiero calcular $log_a(b) \\mod p$. \n",
    "2. [x_1,x_2....x_n] sucesión aleatoria en $Z_p$ y encontrar una coincidencia.\n",
    "3. Sucesion x1, x2 , x3=x20\n",
    "\n"
   ]
  },
  {
   "cell_type": "markdown",
   "metadata": {},
   "source": [
    "## 13 abril\n",
    "### RSA\n",
    "p,q dos primos, \n",
    "n = p*q\n",
    "mcd(e,fi(n))\n",
    "(n,e) clave publica, d clave privada (e*d=1 mod fi(n))\n",
    "#### Exponentes de cifrado \n",
    "Paginas 162..\n",
    "##### Problemas de RSA\n",
    "1. Factorizar n\n",
    "2. Encontrar fi(n)\n",
    "3. encontrar mcm(p-1,q-1)(lambda (n))\n",
    "Los tres problemas equivalen a factorizar n \n",
    "#### Ejercicio probar  a romper usando fi(n)= 135645218856, n= 135651523807, p+q = 6304952\n",
    "p*q=n \n",
    "fi(n)=(p-1)*(q-1)= pq-q-p+1\n",
    "p+q = n-fi(n)+1\n",
    "\n",
    "a*b=84 // (19-b)b=84->b^2 -19b+84=0\n",
    "a+b=19 -> a = 19-b\n",
    "solucion p =21589, q= 6283363 resolver p²-(s*p)+n=0 (s = p+q)\n"
   ]
  },
  {
   "cell_type": "code",
   "execution_count": 19,
   "metadata": {},
   "outputs": [
    {
     "name": "stdout",
     "output_type": "stream",
     "text": [
      "6261774\n",
      "(b+seg)/2a = 6283363.0\n",
      "(b+seg)/2a = 21589.0\n"
     ]
    }
   ],
   "source": [
    "import factorizacion as fc\n",
    "import util.math as mt\n",
    "import util.primality as pr\n",
    "from random import randint\n",
    "f_n = 135645218856\n",
    "n = 135651523807\n",
    "p_q = 6304952\n",
    "\n",
    "\n",
    "seg = mt.square((p_q**2)-(4*n))\n",
    "print (seg)\n",
    "print (\"(b+seg)/2a = {}\".format((p_q+seg)/2))\n",
    "print (\"(b+seg)/2a = {}\".format((p_q-seg)/2))"
   ]
  },
  {
   "cell_type": "markdown",
   "metadata": {},
   "source": [
    "### Datos \n",
    "n es producto de p y q\n",
    "lmbda(m) = mcm(p-1,q-1)\n",
    "\n",
    "#### ejemplo\n",
    "n=589\n",
    "lambda(n)=90\n",
    "1. calcular r = n mod lambda(n), r= 49\n",
    "2. Dos posibilidades: \n",
    "n-fi(n) = r //-> fi(n)= n-r\n",
    "n-fi(n) = r + lambda(n) //-> fi(n)=n-r-lambda(n)"
   ]
  },
  {
   "cell_type": "code",
   "execution_count": 17,
   "metadata": {},
   "outputs": [
    {
     "name": "stdout",
     "output_type": "stream",
     "text": [
      "(b+seg)/2a = 31.0\n",
      "(b+seg)/2a = 19.0\n",
      "(b+seg)/2a = 135.5\n",
      "(b+seg)/2a = 4.5\n"
     ]
    }
   ],
   "source": [
    "n=589\n",
    "lm=90\n",
    "r=49\n",
    "fi_n1 = n-r\n",
    "fi_n2 = n-r-lm\n",
    "p_q_1 = n-fi_n1+1\n",
    "p_q_2 = n-fi_n2+1\n",
    "\n",
    "seg = mt.square((p_q_1**2)-(4*n))\n",
    "print (\"(b+seg)/2a = {}\".format((p_q_1+seg)/2))\n",
    "print (\"(b+seg)/2a = {}\".format((p_q_1-seg)/2))\n",
    "seg = mt.square((p_q_2**2)-(4*n))\n",
    "print (\"(b+seg)/2a = {}\".format((p_q_2+seg)/2))\n",
    "print (\"(b-seg)/2a = {}\".format((p_q_2-seg)/2))"
   ]
  },
  {
   "cell_type": "markdown",
   "metadata": {},
   "source": [
    "n= 135651523807\n",
    "e = 65537\n",
    "clave publica (n,e) (hay 6 exponentes de cifrado) uno de ellos es d= 12920070665\n",
    "1. Comprobamos que es un exponente de cifrado\n",
    "m(aleatorio) \n",
    "m^(e*d) mod n \n",
    "2. conociendo d podemos factorizar n\n",
    "d*e -1 = 2^u * s\n"
   ]
  },
  {
   "cell_type": "code",
   "execution_count": 28,
   "metadata": {},
   "outputs": [
    {
     "name": "stdout",
     "output_type": "stream",
     "text": [
      "28511152834\n",
      "28511152834\n",
      "28511152834\n"
     ]
    }
   ],
   "source": [
    "m = randint(1,n-1)\n",
    "e = 65537\n",
    "n= 135651523807\n",
    "d1= 12920070665\n",
    "print (m)\n",
    "print (mt.power_optimize(m,e*d1,n))\n",
    "d2=80742680093 # otro exponente de cifrado\n",
    "print (mt.power_optimize(m,e*d2,n))"
   ]
  },
  {
   "cell_type": "code",
   "execution_count": 56,
   "metadata": {},
   "outputs": [
    {
     "name": "stdout",
     "output_type": "stream",
     "text": [
      "u = 3, s = 105842833896513\n",
      "x = 96735889556, y= 134533085192\n",
      "y_2 = 106100867619, y_4 = 1, y_8 = 1\n",
      "mcd (z-1,n)=6283363\n"
     ]
    }
   ],
   "source": [
    "def descomponer(a):\n",
    "    c = 0\n",
    "    b = a\n",
    "    while b % 2 == 0:\n",
    "        c = c + 1\n",
    "        b = b // 2\n",
    "    return c, b\n",
    "\n",
    "# escribimos d*e-1\n",
    "u,s = descomponer((d1*e)-1)\n",
    "print (\"u = {}, s = {}\".format(u,s))\n",
    "#x = randint (2,n-2)\n",
    "#x = 81736467419\n",
    "x = 96735889556\n",
    "y = mt.power_optimize(x,s,n)\n",
    "print (\"x = {}, y= {}\".format(x,y))\n",
    "y_2 = (y**2)%n\n",
    "y_4 = (y**4)%n\n",
    "y_8 = (y**8)%n\n",
    "# Cojemos 3 porque u = 3\n",
    "print (\"y_2 = {}, y_4 = {}, y_8 = {}\".format(y_2,y_4,y_8))\n",
    "print (\"mcd (z-1,n)={}\".format(mt.mcd(y_2-1,n)))"
   ]
  },
  {
   "cell_type": "markdown",
   "metadata": {},
   "source": [
    "z^2 % n = 1\n",
    "z^2 -1 es multiplo de n\n",
    "(z+1)(z-1) es multiplo de n"
   ]
  }
 ],
 "metadata": {
  "kernelspec": {
   "display_name": "Python 3",
   "language": "python",
   "name": "python3"
  },
  "language_info": {
   "codemirror_mode": {
    "name": "ipython",
    "version": 3
   },
   "file_extension": ".py",
   "mimetype": "text/x-python",
   "name": "python",
   "nbconvert_exporter": "python",
   "pygments_lexer": "ipython3",
   "version": "3.7.1"
  }
 },
 "nbformat": 4,
 "nbformat_minor": 2
}
